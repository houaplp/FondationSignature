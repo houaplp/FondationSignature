{
 "cells": [
  {
   "cell_type": "code",
   "execution_count": 1,
   "metadata": {},
   "outputs": [],
   "source": [
    "import os\n",
    "import math\n",
    "import glob\n",
    "import re\n",
    "import numpy as np\n",
    "import pandas as pd\n",
    "import matplotlib.pyplot as plt\n",
    "import sklearn\n",
    "from sklearn.linear_model import LinearRegression\n",
    "from sklearn.model_selection import train_test_split\n",
    "plt.rcParams[\"svg.fonttype\"]=\"none\""
   ]
  },
  {
   "cell_type": "code",
   "execution_count": 304,
   "metadata": {},
   "outputs": [
    {
     "name": "stdout",
     "output_type": "stream",
     "text": [
      "79\n"
     ]
    }
   ],
   "source": [
    "folder_path=\"/Users/laurentpottier/Documents/LP/Recherches/Projet_Fondation/Langages&Maths/Anaconda/LPanalyse/PopPlinn/class/PopPlinnTxt\"\n",
    "#folder_path=\"/Users/laurentpottier/Documents/LP/Recherches/Projet_Fondation/Langages&Maths/Anaconda/LPanalyse/00_tests\"\n",
    "#folder_path=\"/Users/laurentpottier/Documents/LP/Recherches/Projet_Fondation/Langages&Maths/Anaconda/LPanalyse/PopPlinn/class/PopPlinnTxtSel2\"\n",
    "\n",
    "filelist = []\n",
    "for path, dirs, files in os.walk(folder_path):\n",
    "    for filename in files:\n",
    "        if 'txt' in filename :\n",
    "                filelist.append(filename)\n",
    "filelist.sort()\n",
    "print(len(filelist))\n",
    "\n",
    "#get classes in string\n",
    "class_path=os.chdir(\"/Users/laurentpottier/Documents/LP/Recherches/Projet_Fondation/Langages&Maths/Anaconda/LPanalyse/PopPlinn/class/PopPlinnTxt/\")\n",
    "#class_path=os.chdir(\"/Users/laurentpottier/Documents/LP/Recherches/Projet_Fondation/Langages&Maths/Anaconda/LPanalyse/00_tests/\")\n",
    "#class_path=os.chdir(\"/Users/laurentpottier/Documents/LP/Recherches/Projet_Fondation/Langages&Maths/Anaconda/LPanalyse/PopPlinn/class/PopPlinnTxtSel2/\")\n"
   ]
  },
  {
   "cell_type": "code",
   "execution_count": 3,
   "metadata": {},
   "outputs": [
    {
     "name": "stdout",
     "output_type": "stream",
     "text": [
      "note de freq 261Hz : 59.95855539654269\n",
      "frequence de note 60 : 261.6255653005986 Hz\n"
     ]
    }
   ],
   "source": [
    "def f_to_midi (f) :\n",
    "    return 69+12*math.log(f/440,2)\n",
    "\n",
    "print (\"note de freq 261Hz :\" , f_to_midi (261))\n",
    "\n",
    "def midi_to_f (n) :\n",
    "    return 440*2**((n-69)/12)\n",
    "\n",
    "print (\"frequence de note 60 :\" , midi_to_f (60), \"Hz\")\n"
   ]
  },
  {
   "cell_type": "code",
   "execution_count": 4,
   "metadata": {},
   "outputs": [
    {
     "name": "stdout",
     "output_type": "stream",
     "text": [
      "len(f_ls) : 28 bornes\n",
      "w : [10.8, 10.8, 10.7, 10.8, 21.5, 21.6, 32.3, 32.3, 43.0, 53.9, 75.3, 96.9, 107.7, 150.7, 172.3, 236.9, 279.9, 366.1, 462.9, 570.6, 732.2, 915.1, 1152.1, 1453.5, 1830.3, 2304.0, 2896.2]\n",
      "f_c : [26.352419243781014, 37.311258354550304, 48.15371221411699, 58.95320177903826, 74.57921962584483, 96.29626160968036, 122.79250791477467, 155.31258802814406, 192.60371232143996, 240.74625646102996, 304.53144336833265, 389.95166367128115, 492.31366018017417, 619.8872316800855, 781.2141703783924, 983.4423724855463, 1241.0842437159533, 1561.255744585108, 1972.9202974271413, 2486.8884474378824, 3133.28453064831, 3951.8503337044535, 4978.6350358306045, 6272.689938136588, 7903.745212239575, 9957.28164159275, 12540.467807462368]\n",
      "f_c_moy : 478.5 Hz\n",
      "f_c_gmoyR : 612.6 Hz\n"
     ]
    }
   ],
   "source": [
    "\n",
    "f_ls = [21.5,32.3,43.1,53.8,64.6,86.1,107.7,140.0,172.3,215.3,269.2,344.5,441.4,549.1,699.8,872.1,1109.0,1388.9,1755.0,2217.9,2788.5,3520.7,4435.8,5587.9,7041.4,8871.7,11175.7,14071.9]\n",
    "\n",
    "L = [] # liste des tailles des lignes\n",
    "for k in range(27):\n",
    "    L.append(4+2*k)\n",
    "\n",
    "f_c = [] # frequences centrales des bandes\n",
    "for i in range(len(f_ls)-1):\n",
    "    f_c.append(math.sqrt(f_ls[i+1]*f_ls[i]))\n",
    "    \n",
    "f_c_midi = []\n",
    "for i in range(len(f_c)):\n",
    "    f_c_midi.append(f_to_midi(f_c[i]))\n",
    "\n",
    "f_c_moy = 0 \n",
    "for i in range(len(f_c)):\n",
    "    f_c_moy += f_c[i]\n",
    "    f_c_moy /= 27\n",
    "    \n",
    "f_c_gmoy = 0\n",
    "for i in range(len(f_c)):\n",
    "    f_c_gmoy += math.log(f_c[i], 2)\n",
    "    f_c_gmoyR =  2**(f_c_gmoy/27)\n",
    "\n",
    "#formule equivalente\n",
    "#f_c_gmoy2 = 0\n",
    "#for i in range(len(f_c)):\n",
    "#    f_c_gmoy2 += f_to_midi(f_c[i])\n",
    "#    f_c_gmoyR2 =  midi_to_f(f_c_gmoy2/27)\n",
    "\n",
    "    \n",
    "print(\"len(f_ls) :\", len(f_ls), \"bornes\")\n",
    "W=[]\n",
    "for i in range(len(f_ls)-1):\n",
    "    W.append(round(f_ls[i+1]-f_ls[i], 2))\n",
    "print(\"w :\" , W)    \n",
    "    \n",
    "print (\"f_c :\", f_c)\n",
    "print (\"f_c_moy :\", round(f_c_moy,1), \"Hz\") # (en Hz) moyenne des frequences des centres des bandes \n",
    "print (\"f_c_gmoyR :\", round(f_c_gmoyR,1), \"Hz\") # (en Hz) moyenne des centres calculée par les notes MIDI\n",
    "#print (\"f_c_gmoyR :\", f_c_gmoyR2) # (en Hz) moyenne des centres calculée par les notes MIDI\n",
    "\n",
    "f_cA = np.asarray(f_c)\n",
    "f_cA = f_cA[:, np.newaxis]\n",
    "#print (round(3.149 , 2))\n"
   ]
  },
  {
   "cell_type": "code",
   "execution_count": 5,
   "metadata": {},
   "outputs": [],
   "source": [
    "# read filetxt and generate array S\n",
    "def read(filetext):\n",
    "    with open(filetext) as f:\n",
    "        mylist = f.read().splitlines()\n",
    "        for x in range(8):\n",
    "            mylist.pop(0)\n",
    "        S=[]\n",
    "        for element in reversed(mylist):\n",
    "            element2=[float(i) for i in element.split()]\n",
    "            S.append(element2)\n",
    "        return S\n",
    "    "
   ]
  },
  {
   "cell_type": "code",
   "execution_count": 6,
   "metadata": {},
   "outputs": [],
   "source": [
    "#file1 = \"AlanStivell_PopPlinn_1971m.wav_sr44100_deb00_32_50_t02_50_pas02_50.txt\"\n",
    "file1 = \"AlanStivell_PopPlinn_1971m.wav_sr44100_deb01_02_50_t02_50_pas02_50.txt\"\n",
    "S1 = read(file1)\n",
    "\n",
    "#print (S)\n",
    "#file1 = \"noise.wav_sr44100_deb00_00_00_t01_99.txt\"\n",
    "#file1 = \"sinus500.wav_sr44100_deb00_00_00_t02_00.txt\"\n",
    "#file1 = \"pink.wav_sr44100_deb00_00_00_t02_00.txt\"\n",
    "#file1 = \"son2dec.wav_sr44100_deb00_00_00_t02_00.txt\"\n",
    "#file1 = \"son3gflat.wav_sr44100_deb00_00_00_t02_00.txt\"\n",
    "#file1 = \"son3ginc.wav_sr44100_deb00_00_00_t02_00.txt\"\n",
    "#read(file1)"
   ]
  },
  {
   "cell_type": "code",
   "execution_count": 7,
   "metadata": {},
   "outputs": [
    {
     "name": "stdout",
     "output_type": "stream",
     "text": [
      "45.0\n"
     ]
    }
   ],
   "source": [
    "# plus file name unite comme secondes \n",
    "def timetxt (filetext):\n",
    "    str_L = filetext.rsplit(sep='_')\n",
    "    test = 0\n",
    "    result = 0\n",
    "    for str in str_L:\n",
    "        if test == 3:\n",
    "            cent = int(str)\n",
    "            result+=(cent/100)\n",
    "            test = 0\n",
    "        if test == 2:\n",
    "            sec = int(str)\n",
    "            test = 3\n",
    "            result+=sec\n",
    "        if re.search('deb', str):\n",
    "            test = 1\n",
    "            min = int(str[4-5])\n",
    "            result+=(min*60)\n",
    "            test = 2\n",
    "    return result\n",
    "\n",
    "print(timetxt(\"AlanStivell_PopPlinn_1971m.wav_sr44100_deb00_45_00_t02_50_pas02_50.txt\"))\n",
    "#timetxt(\"AlanStivell_PopPlinn_1971m.wav_sr44100_deb00_45_00_t02_50_pas02_50.txt\")\n"
   ]
  },
  {
   "cell_type": "code",
   "execution_count": 8,
   "metadata": {},
   "outputs": [
    {
     "name": "stdout",
     "output_type": "stream",
     "text": [
      "amps: [0.001903, 0.002326833333333333, 0.00388625, 0.007345300000000001, 0.04093575, 0.06096792857142857, 0.0496956875, 0.050534777777777776, 0.07179319999999997, 0.05659654545454545, 0.03631945833333334, 0.026687230769230772, 0.03215614285714286, 0.013824033333333336, 0.0178050625, 0.03382120588235294, 0.038312388888888896, 0.036031157894736834, 0.031519599999999995, 0.02116523809523809, 0.021396090909090906, 0.01335178260869565, 0.0101090625, 0.005377160000000001, 0.004765999999999999, 0.004532611111111111, 0.003662482142857144]\n"
     ]
    }
   ],
   "source": [
    "# moyennes des amplitudes par ligne (des fréquences basses vers hautes)\n",
    "def moy_des_amps (S):\n",
    "    Sk_mean=[]\n",
    "    for k in range(27):\n",
    "        sum_s=0\n",
    "        for j in range(4+2*k):\n",
    "            sum_s+=S[k][j]\n",
    "        Sk_mean.append(sum_s/(4+2*k))\n",
    "    return Sk_mean  \n",
    "print(\"amps:\",moy_des_amps(S1))"
   ]
  },
  {
   "cell_type": "code",
   "execution_count": 9,
   "metadata": {},
   "outputs": [
    {
     "name": "stdout",
     "output_type": "stream",
     "text": [
      "centroid: 998 Hz\n"
     ]
    }
   ],
   "source": [
    "#centroid\n",
    "def centroid(S):\n",
    "    Sk_mean = moy_des_amps(S)\n",
    "    sum_sc=0\n",
    "    sum_sfk=0\n",
    "    for k in range(27):\n",
    "        sum_sfk+=Sk_mean[k]*f_c[k]\n",
    "        sum_sc+=Sk_mean[k]            \n",
    "    if sum_sc == 0 :\n",
    "        centroid=0\n",
    "    else:\n",
    "        centroid=sum_sfk/sum_sc\n",
    "    #print('centroid' , centroid)\n",
    "    return centroid\n",
    "\n",
    "print(\"centroid:\",round(centroid(S1)),\"Hz\")"
   ]
  },
  {
   "cell_type": "code",
   "execution_count": 10,
   "metadata": {},
   "outputs": [
    {
     "name": "stdout",
     "output_type": "stream",
     "text": [
      "sd: 1687 Hz\n"
     ]
    }
   ],
   "source": [
    "#variance et sd\n",
    "def variance(S):\n",
    "    Sk_mean=[]\n",
    "    for k in range(27):\n",
    "        sum_s=0\n",
    "        for j in range(4+2*k):\n",
    "            sum_s+=S[k][j]\n",
    "        Sk_mean.append(sum_s/(4+2*k))\n",
    "    sum_var=0\n",
    "    sum_skm=0\n",
    "    for k in range(27):\n",
    "        sum_var+=Sk_mean[k]*((f_c[k]-centroid(S))**2)\n",
    "        sum_skm+=Sk_mean[k]\n",
    "    variance=sum_var/sum_skm\n",
    "    #print(\"variance\", variance)\n",
    "    return variance\n",
    "\n",
    "# sd: \n",
    "def sd(filetext):\n",
    "    sd=math.sqrt(variance(filetext))\n",
    "    return sd\n",
    "\n",
    "print(\"sd:\",round(sd(S1)),\"Hz\")"
   ]
  },
  {
   "cell_type": "code",
   "execution_count": 11,
   "metadata": {},
   "outputs": [
    {
     "name": "stdout",
     "output_type": "stream",
     "text": [
      "centroid: 997.9 Hz\n",
      "centre-ecartlow: 241.7 Hz\n",
      "centre+ecartHigh: 3981.7 Hz\n"
     ]
    }
   ],
   "source": [
    "# sd: biased standard deviation (N)\n",
    "def sdLow(S):\n",
    "    Sk_mean = moy_des_amps(S)\n",
    "    sum_sd=0\n",
    "    sum_skm=0\n",
    "    for k in range(27):\n",
    "        diff=f_c[k]-centroid(S)\n",
    "        if diff <0:\n",
    "            sum_sd+=Sk_mean[k]*(diff**2)\n",
    "            sum_skm+=Sk_mean[k]\n",
    "    sdLow=math.sqrt(sum_sd/sum_skm)\n",
    "    return sdLow\n",
    "\n",
    "# sd: biased standard deviation (N)\n",
    "def sdHigh(S):\n",
    "    Sk_mean = moy_des_amps(S)\n",
    "    sum_sd=0\n",
    "    sum_skm=0\n",
    "    for k in range(27):\n",
    "        diff=f_c[k]-centroid(S)\n",
    "        if diff >0:\n",
    "            sum_sd+=Sk_mean[k]*(diff**2)\n",
    "            sum_skm+=Sk_mean[k]\n",
    "    sdHigh=math.sqrt(sum_sd/sum_skm)\n",
    "    return sdHigh\n",
    "    \n",
    "def c_min_sdlow(S): \n",
    "    return round(centroid(S) - sdLow(S),1)\n",
    "\n",
    "def c_plus_sdHi(S): \n",
    "    return round(centroid(S) + sdHigh(S),1)\n",
    "\n",
    "\n",
    "print(\"centroid:\", round(centroid(S1),1),\"Hz\")\n",
    "print(\"centre-ecartlow:\", c_min_sdlow(S1),\"Hz\")\n",
    "print(\"centre+ecartHigh:\", c_plus_sdHi(S1),\"Hz\")"
   ]
  },
  {
   "cell_type": "code",
   "execution_count": 12,
   "metadata": {},
   "outputs": [],
   "source": [
    "#MIDI centroid\n",
    "def midi_centroid(S):\n",
    "    Sk_mean = moy_des_amps(S)\n",
    "    sum_sc=0\n",
    "    sum_sfk=0\n",
    "    for k in range(27):\n",
    "        sum_sfk+=Sk_mean[k]*f_to_midi(f_c[k])\n",
    "        sum_sc+=Sk_mean[k]            \n",
    "    if sum_sc == 0 :\n",
    "        midi_centroid=0\n",
    "    else:\n",
    "        midi_centroid=sum_sfk/sum_sc\n",
    "    #print('centroid' , centroid)\n",
    "    return midi_centroid"
   ]
  },
  {
   "cell_type": "code",
   "execution_count": 13,
   "metadata": {},
   "outputs": [
    {
     "name": "stdout",
     "output_type": "stream",
     "text": [
      "midi_centroid: 67.5 MIDI / 403 Hz\n",
      "centr-ecartLow: 48.6 MIDI / 135.4 Hz\n",
      "centr+ecartHigh: 94.5 MIDI / 1919.3 Hz\n"
     ]
    }
   ],
   "source": [
    "#ecartHigh\n",
    "def midi_ecartHigh(S): \n",
    "    Sk_mean = moy_des_amps(S) \n",
    "    sum_var=0 \n",
    "    sum_skm=0 \n",
    "    for k in range(27): \n",
    "        df = f_to_midi(f_c[k])-midi_centroid(S) \n",
    "        if df>0:\n",
    "            sum_var+=Sk_mean[k]*(df**2)\n",
    "            sum_skm+=Sk_mean[k]\n",
    "    varianceHigh=sum_var/sum_skm\n",
    "    #print(\\\"variance\\\", variance)\n",
    "    return math.sqrt(varianceHigh)\n",
    "\n",
    "#ecartLow \n",
    "def midi_ecartLow(S): \n",
    "    Sk_mean = moy_des_amps(S) \n",
    "    sum_var=0 \n",
    "    sum_skm=0 \n",
    "    for k in range(27): \n",
    "        df = f_to_midi(f_c[k])-midi_centroid(S) \n",
    "        if df<0:\n",
    "            sum_var+=Sk_mean[k]*(df**2)\n",
    "            sum_skm+=Sk_mean[k]\n",
    "    varianceLow=sum_var/sum_skm\n",
    "    #print(\\\"variance\\\", variance)\n",
    "    return math.sqrt(varianceLow)\n",
    "\n",
    "def mc_min_eclow(S): \n",
    "    return round(midi_centroid(S) - midi_ecartLow(S),1)\n",
    "\n",
    "def mc_plus_ecHi(S): \n",
    "    return round(midi_centroid(S) + midi_ecartHigh(S),1)\n",
    "\n",
    "mcd = round(midi_centroid(S1),1)\n",
    "mcd_eL = round(mc_min_eclow(S1),1)\n",
    "mcd_eH = round(mc_plus_ecHi(S1),1)\n",
    "print(\"midi_centroid:\", mcd,\"MIDI /\", round(midi_to_f(mcd)),\"Hz\")\n",
    "print(\"centr-ecartLow:\", mcd_eL,\"MIDI /\", round(midi_to_f(mcd_eL),1),\"Hz\") \n",
    "print(\"centr+ecartHigh:\", mcd_eH,\"MIDI /\", round(midi_to_f(mcd_eH),1),\"Hz\")\n"
   ]
  },
  {
   "cell_type": "code",
   "execution_count": 14,
   "metadata": {},
   "outputs": [
    {
     "data": {
      "image/png": "[encoded data removed]",
      "text/plain": [
       "<matplotlib.figure.Figure at 0x1a0cb11dd8>"
      ]
     },
     "metadata": {},
     "output_type": "display_data"
    },
    {
     "name": "stdout",
     "output_type": "stream",
     "text": [
      "slope : -0.00018820454331496756\n"
     ]
    }
   ],
   "source": [
    "#midi spectral slope\n",
    "def midi_spectral_slope_reg(S):\n",
    "    f_csA_midi = np.asarray(f_c_midi)\n",
    "    f_csA_midi = f_csA_midi[:, np.newaxis]\n",
    "    Sk_meanA = np.asarray(moy_des_amps(S))\n",
    "    Sk_meanA = Sk_meanA[:, np.newaxis]\n",
    "    modeleReg = LinearRegression()\n",
    "    modeleReg.fit(f_csA_midi, Sk_meanA)\n",
    "    #plt.scatter(f_csA, Sk_meanA)\n",
    "    return modeleReg\n",
    "\n",
    "def midi_sp_slope (S):\n",
    "    return midi_spectral_slope_reg(S).coef_[0][0]\n",
    "\n",
    "def plot_slope(S):\n",
    "    modeleReg = midi_spectral_slope_reg(S)\n",
    "    f_csA_midi = np.asarray(f_c_midi)\n",
    "    f_csA_midi = f_csA_midi[:, np.newaxis]\n",
    "    Sk_meanA = np.asarray(moy_des_amps(S))\n",
    "    Sk_meanA = Sk_meanA[:, np.newaxis]\n",
    "    plt.scatter(f_csA_midi, Sk_meanA)\n",
    "    \n",
    "    x_min = 10\n",
    "    x_max = 130\n",
    "\n",
    "    X_NEW = np.linspace(x_min, x_max, 100)\n",
    "    X_NEW = X_NEW[:,np.newaxis]\n",
    "\n",
    "    Y_NEW = modeleReg.predict(X_NEW)\n",
    "\n",
    "    plt.plot(X_NEW, Y_NEW, color='coral', linewidth=3)\n",
    "    plt.grid()\n",
    "    plt.xlim(x_min, x_max)\n",
    "    plt.ylim(-0.2, 0.2)\n",
    "\n",
    "    plt.title(\"regression linéaire test\", fontsize=10)\n",
    "    plt.xlabel('f_cs_midi')\n",
    "    plt.xlabel('a_ls_midi')\n",
    "\n",
    "    plt.savefig(\"simple_linear_regression_test_midi.png\", bbox_inches='tight')\n",
    "    plt.show()\n",
    "\n",
    "plot_slope (S1)\n",
    "print (\"slope : \" + str(midi_sp_slope(S1)))\n",
    "\n"
   ]
  },
  {
   "cell_type": "code",
   "execution_count": 15,
   "metadata": {},
   "outputs": [
    {
     "data": {
      "image/png": "[encoded data removed]",
      "text/plain": [
       "<matplotlib.figure.Figure at 0x1a0c9e7dd8>"
      ]
     },
     "metadata": {},
     "output_type": "display_data"
    },
    {
     "name": "stdout",
     "output_type": "stream",
     "text": [
      "slope : -3.008010991203507e-06\n"
     ]
    }
   ],
   "source": [
    "#spectral slope\n",
    "def spectral_slope_reg(S):\n",
    "    f_csA = np.asarray(f_c)\n",
    "    f_csA = f_csA[:, np.newaxis]\n",
    "    Sk_meanA = np.asarray(moy_des_amps(S))\n",
    "    Sk_meanA = Sk_meanA[:, np.newaxis]\n",
    "    modeleReg = LinearRegression()\n",
    "    modeleReg.fit(f_csA, Sk_meanA)\n",
    "    #plt.scatter(f_csA, Sk_meanA)\n",
    "    return modeleReg\n",
    "\n",
    "def sp_slope (S):\n",
    "    return spectral_slope_reg(S).coef_[0][0]\n",
    "\n",
    "def plot_slope(S):\n",
    "    modeleReg = spectral_slope_reg(S)\n",
    "    f_csA = np.asarray(f_c)\n",
    "    f_csA = f_csA[:, np.newaxis]\n",
    "    Sk_meanA = np.asarray(moy_des_amps(S))\n",
    "    Sk_meanA = Sk_meanA[:, np.newaxis]\n",
    "    plt.scatter(f_csA, Sk_meanA)\n",
    "    \n",
    "    x_min = 20\n",
    "    x_max = 14000\n",
    "\n",
    "    X_NEW = np.linspace(x_min, x_max, 100)\n",
    "    X_NEW = X_NEW[:,np.newaxis]\n",
    "\n",
    "    Y_NEW = modeleReg.predict(X_NEW)\n",
    "\n",
    "    plt.plot(X_NEW, Y_NEW, color='coral', linewidth=3)\n",
    "    #plt.scale.LogScale\n",
    "    plt.grid()\n",
    "    plt.xlim(x_min, x_max)\n",
    "    plt.txaxis=dict(type='log', autorange=True)\n",
    "    plt.ylim(-0.2, 0.2)\n",
    "\n",
    "    plt.title(\"regression linéaire test\", fontsize=10)\n",
    "    plt.xlabel('f_cs')\n",
    "    plt.xlabel('a_ls')\n",
    "    plt.xscale(\"log\")\n",
    "\n",
    "    plt.savefig(\"simple_linear_regression_test.png\", bbox_inches='tight')\n",
    "    plt.show()\n",
    "\n",
    "plot_slope (S1)\n",
    "print (\"slope : \" + str(sp_slope(S1)))\n",
    "\n"
   ]
  },
  {
   "cell_type": "code",
   "execution_count": 16,
   "metadata": {},
   "outputs": [
    {
     "name": "stdout",
     "output_type": "stream",
     "text": [
      "spectral_flatness: 0.6618243183621844\n"
     ]
    }
   ],
   "source": [
    "#spectral flatness \n",
    "def sp_flatness(S):\n",
    "    Sk_mean = moy_des_amps(S)\n",
    "    sum_skm=0\n",
    "    mult_skm=1\n",
    "    K=26\n",
    "    for k in range(26):\n",
    "        sum_skm+=Sk_mean[k]\n",
    "        mult_skm*=max(Sk_mean[k], 0.00001)\n",
    "        pow_skm=mult_skm**(1/K)\n",
    "    if sum_skm == 0 :\n",
    "        sf=0\n",
    "    else:\n",
    "        sf=pow_skm/((1/K)*sum_skm)\n",
    "    return sf\n",
    "\n",
    "print (\"spectral_flatness:\", sp_flatness(S1))"
   ]
  },
  {
   "cell_type": "code",
   "execution_count": 17,
   "metadata": {},
   "outputs": [
    {
     "name": "stdout",
     "output_type": "stream",
     "text": [
      "sp_flatness_maxamp: 0.06465808607725208\n",
      "sp_flatness_maxfreq: 192.60371232143996\n",
      "sp_flatness_minamp: 0.0018649844542634535\n",
      "sp_flatness_minfreq: 26.352419243781014\n"
     ]
    }
   ],
   "source": [
    "# moyennes des amplitudes par ligne (des fréquences basses vers hautes)\n",
    "def produit_des_amps (S):\n",
    "    Sk_mult=1\n",
    "    for k in range(27):\n",
    "        mult_s=1\n",
    "        for j in range(4+2*k):\n",
    "            mult_s*=max(S[k][j]**(0.5/(k+2)), 0.00000001)\n",
    "        Sk_mult*=mult_s\n",
    "    return Sk_mult  \n",
    "\n",
    "# moyennes des amplitudes par ligne (des fréquences basses vers hautes)\n",
    "def flatness_list (S):\n",
    "    Sk_flat=[]\n",
    "    for k in range(27):\n",
    "        mult_s=1\n",
    "        for j in range(4+2*k):\n",
    "            mult_s*=max(S[k][j]**(0.5/(k+2)), 0.00000001)\n",
    "        Sk_flat.append(mult_s)\n",
    "    return Sk_flat  \n",
    "\n",
    "#spectral flatness moyenne\n",
    "def sp_flatness_moy(S):\n",
    "    Sk_flat = flatness_list(S)\n",
    "    Sm=0\n",
    "    for k in range(27):\n",
    "         Sm+=Sk_flat[k]\n",
    "    #print(Sm)\n",
    "    return Sm/27\n",
    "\n",
    "#formule equivalente\n",
    "def sp_flatness_moy2(S):\n",
    "    Sk_flat = flatness_list(S)\n",
    "    Sk_flatA = np.asarray(Sk_flat)\n",
    "    return Sk_flatA.mean()\n",
    "\n",
    "def sp_flatness_max(S):\n",
    "    Sk_flat = flatness_list(S)\n",
    "    Sm=0\n",
    "    for k in range(27):\n",
    "        if Sm<Sk_flat[k]:\n",
    "            Sm=Sk_flat[k]\n",
    "            value = k\n",
    "    return [value, f_c[value], Sm]\n",
    "         \n",
    "    #print(Sm)\n",
    "    return Sm/27\n",
    "\n",
    "def sp_flatness_min(S):\n",
    "    Sk_flat = flatness_list(S)\n",
    "    Sm=1\n",
    "    for k in range(27):\n",
    "        if Sm>Sk_flat[k]:\n",
    "            Sm=Sk_flat[k]\n",
    "            value = k\n",
    "    return [value, f_c[value], Sm]\n",
    "\n",
    "def sp_flatness_maxamp(S):\n",
    "    return sp_flatness_max(S)[2]\n",
    "def sp_flatness_maxfreq(S):\n",
    "    return sp_flatness_max(S)[1]\n",
    "def sp_flatness_minamp(S):\n",
    "    return sp_flatness_min(S)[2]\n",
    "def sp_flatness_minfreq(S):\n",
    "    return sp_flatness_min(S)[1]\n",
    "\n",
    "print(\"sp_flatness_maxamp:\", sp_flatness_maxamp(S1))\n",
    "print(\"sp_flatness_maxfreq:\", sp_flatness_maxfreq(S1))\n",
    "print(\"sp_flatness_minamp:\", sp_flatness_minamp(S1))\n",
    "print(\"sp_flatness_minfreq:\", sp_flatness_minfreq(S1))"
   ]
  },
  {
   "cell_type": "code",
   "execution_count": 18,
   "metadata": {},
   "outputs": [
    {
     "name": "stdout",
     "output_type": "stream",
     "text": [
      "4.503874860426\n"
     ]
    }
   ],
   "source": [
    "def sp_crest(S):\n",
    "    Sk_mean = moy_des_amps(S)\n",
    "    sum_skm=0\n",
    "    K=27\n",
    "    max_skm=[]\n",
    "    for k in range(27):\n",
    "        sum_skm+=Sk_mean[k]\n",
    "        for j in range(4+2*k):\n",
    "            max_skm.append(np.max(S[k][j]))\n",
    "    max_sk=max(max_skm)\n",
    "    screst=max_sk/((1/K)*sum_skm)\n",
    "    return screst\n",
    "\n",
    "print(sp_crest(S1))"
   ]
  },
  {
   "cell_type": "code",
   "execution_count": 19,
   "metadata": {},
   "outputs": [
    {
     "name": "stdout",
     "output_type": "stream",
     "text": [
      "0.1806035216196576\n"
     ]
    }
   ],
   "source": [
    "\n",
    "# rms with original value of frequency bin k=27\n",
    "def rms(S):\n",
    "    Sk_mean = moy_des_amps(S)\n",
    "    sum_skr=[]\n",
    "    for k in range(27):\n",
    "        sum_sk=0\n",
    "        for j in range(L[k]):\n",
    "            sum_sk+= (1/L[k])*(S[k][j]**2)\n",
    "        sum_skr.append(sum_sk)\n",
    "    #print(sum_skr)\n",
    "    sum_rms=0\n",
    "    for k in range(27):\n",
    "        sum_rms+=sum_skr[k]\n",
    "    rms=math.sqrt(sum_rms)\n",
    "    return rms  \n",
    "\n",
    "print(rms(S1))"
   ]
  },
  {
   "cell_type": "code",
   "execution_count": 20,
   "metadata": {},
   "outputs": [],
   "source": [
    "# maxfreq25 (amp max de la bande 25) approx 8000Hz\n",
    "def maxfreq25(S):\n",
    "    maxfreq25=max(S[25])\n",
    "    return maxfreq25"
   ]
  },
  {
   "cell_type": "code",
   "execution_count": 21,
   "metadata": {},
   "outputs": [
    {
     "name": "stdout",
     "output_type": "stream",
     "text": [
      "3.678744412284469\n",
      "20.118103519552935\n"
     ]
    }
   ],
   "source": [
    "def skewness(S):\n",
    "    Sk_mean = moy_des_amps(S)\n",
    "    sum_sk=0\n",
    "    sum_skm=0\n",
    "    for k in range(27):\n",
    "        sum_sk+=Sk_mean[k]*((f_c[k]-centroid(S))**3)\n",
    "        sum_skm+=Sk_mean[k]\n",
    "    skewness=(sum_sk/sum_skm)/(sd(S)**3)\n",
    "    return skewness\n",
    "\n",
    "print(skewness(S1))\n",
    "\n",
    "\n",
    "def kurtosis(S):\n",
    "    Sk_mean = moy_des_amps(S)\n",
    "    sum_kt=0\n",
    "    sum_skm=0\n",
    "    for k in range(27):\n",
    "        sum_kt+=Sk_mean[k]*((f_c[k]-centroid(S))**4)\n",
    "        sum_skm+=Sk_mean[k]\n",
    "    kurtosis=(sum_kt/sum_skm)/(sd(S)**4)\n",
    "    return kurtosis\n",
    "\n",
    "print(kurtosis(S1))"
   ]
  },
  {
   "cell_type": "code",
   "execution_count": 22,
   "metadata": {},
   "outputs": [],
   "source": [
    "def sp_rolloff(S):\n",
    "    Sk_mean = moy_des_amps(S)\n",
    "    sum_skm=0\n",
    "    sum_rf=0\n",
    "    for k in range(27):\n",
    "        sum_skm+=Sk_mean[k]\n",
    "    for k in range(27):\n",
    "        sum_rf+=Sk_mean[k]\n",
    "        if sum_rf>=0.85*sum_skm:\n",
    "            rf=f_c[k]\n",
    "            break\n",
    "    return rf"
   ]
  },
  {
   "cell_type": "code",
   "execution_count": 23,
   "metadata": {},
   "outputs": [
    {
     "name": "stdout",
     "output_type": "stream",
     "text": [
      "max_amp : 0.116\n",
      "max_amoy : 0.072\n",
      "min_amp : 0.00032\n"
     ]
    }
   ],
   "source": [
    "#amps max et min\n",
    "def max_amp(S):\n",
    "    maxs = []\n",
    "    for k in range(27):\n",
    "        maxs.append(max(S[k]))\n",
    "    return max(maxs)\n",
    "\n",
    "def max_amoy(S):\n",
    "    return max(moy_des_amps(S))\n",
    "\n",
    "def min_amp(S):\n",
    "    mins = []\n",
    "    for k in range(27):\n",
    "        mins.append(min(S[k]))\n",
    "    return min(mins)\n",
    "                    \n",
    "print('max_amp :',round(max_amp(S1),3))\n",
    "print('max_amoy :',round(max_amoy(S1),3))\n",
    "print('min_amp :',round(min_amp(S1),5))"
   ]
  },
  {
   "cell_type": "code",
   "execution_count": 24,
   "metadata": {},
   "outputs": [
    {
     "name": "stdout",
     "output_type": "stream",
     "text": [
      "max_freq : 192.60371\n",
      "max_moy_freq : 192.60371\n"
     ]
    }
   ],
   "source": [
    "def max_freq(S):\n",
    "    maxs = []\n",
    "    maxi = 0\n",
    "    indx = 0\n",
    "    for k in range(27):\n",
    "        maxs.append(max(S[k]))\n",
    "    maxi = max(maxs)\n",
    "    indx = maxs.index(maxi)\n",
    "    #print (\"indx :\", indx, \"amp :\", maxs[indx])\n",
    "    return f_c[indx]\n",
    "\n",
    "def max_moy_freq(S):\n",
    "    maxs = moy_des_amps(S)\n",
    "    maxi = max(maxs)\n",
    "    indx = maxs.index(maxi)\n",
    "    #print (\"indx :\", indx, \"amp :\", maxs[indx])\n",
    "    return f_c[indx]\n",
    "\n",
    "\n",
    "print('max_freq :',round(max_freq(S1),5))\n",
    "print('max_moy_freq :',round(max_moy_freq(S1),5))"
   ]
  },
  {
   "cell_type": "code",
   "execution_count": 25,
   "metadata": {},
   "outputs": [
    {
     "name": "stdout",
     "output_type": "stream",
     "text": [
      "mode_freq : [107.7, 215.3, 1109.0]\n",
      "mode : 215.3\n"
     ]
    }
   ],
   "source": [
    "def mode_freq(S):\n",
    "    Sk_mean = moy_des_amps(S)\n",
    "    Sk_sum = np.sum(Sk_mean)\n",
    "    Sk_cum = 0\n",
    "    indx1 = 0\n",
    "    indx2 = 0\n",
    "    indx3 = 0\n",
    "    for k in range(27):\n",
    "        if Sk_cum < 0.75:\n",
    "            indx3+=1\n",
    "            Sk_cum+=(Sk_mean[k]/Sk_sum)\n",
    "        if Sk_cum < 0.5:\n",
    "            indx2+=1\n",
    "        if Sk_cum < 0.25:\n",
    "            indx1+=1\n",
    "    #print (indx)\n",
    "    return [f_ls[indx1-1], f_ls[indx2-1], f_ls[indx3-1]]\n",
    "\n",
    "\n",
    "def mode_freq1(S):    \n",
    "    return mode_freq(S)[0]\n",
    "    \n",
    "def mode_freq2(S):    \n",
    "    return mode_freq(S)[1]\n",
    "    \n",
    "def mode_freq3(S):    \n",
    "    return mode_freq(S)[2]\n",
    "        \n",
    "\n",
    "print('mode_freq :',mode_freq(S1))\n",
    "print('mode :',mode_freq2(S1))"
   ]
  },
  {
   "cell_type": "code",
   "execution_count": 37,
   "metadata": {},
   "outputs": [
    {
     "data": {
      "text/plain": [
       "[0.001596, 0.00257, 0.001584, 0.001862]"
      ]
     },
     "execution_count": 37,
     "metadata": {},
     "output_type": "execute_result"
    }
   ],
   "source": [
    "S1[0]"
   ]
  },
  {
   "cell_type": "code",
   "execution_count": 291,
   "metadata": {},
   "outputs": [
    {
     "name": "stdout",
     "output_type": "stream",
     "text": [
      "ampmoy 0.9678571428571427\n",
      "ampmoy2 0\n",
      "ampmoy3 100.0\n",
      "ampmoy4 15.0\n"
     ]
    }
   ],
   "source": [
    "def nbre_cell_sup_ampmoy(S):\n",
    "    maxamp = max_amp(S)\n",
    "    minamp = min_amp(S)\n",
    "    moyamp = (maxamp + minamp)* 0.8\n",
    "    n = 0\n",
    "    for k in range(27):\n",
    "        for j in range (len(S[k])):\n",
    "            if (S[k][j] >= moyamp):\n",
    "                n += 1/(k+2)\n",
    "    return n\n",
    "\n",
    "nbre_cell_sup_ampmoy(S1)\n",
    "\n",
    "def nbre_cell_sup_ampmoy2(S):\n",
    "    maxamp = max_amp(S)\n",
    "    minamp = min_amp(S)\n",
    "    moyamp = (maxamp + minamp)* 0.5\n",
    "    #moyamp = 0.05\n",
    "    n = 0\n",
    "    for k in range(10):\n",
    "        for j in range (len(S[k])):\n",
    "            if (S[17+k][j] >= moyamp):\n",
    "                n += 1/(k+19)\n",
    "    return n\n",
    "\n",
    "def nbre_cell_sup_ampmoy3(S, nlow, nhigh):\n",
    "    n = 0\n",
    "    delta = 1+nhigh - nlow\n",
    "    for k in range(delta):\n",
    "        k2 = nlow+k\n",
    "        maxk = np.max(S[k2])\n",
    "        #print(maxk)\n",
    "        #print(S[k2])\n",
    "        for j in range (len(S[k2])):\n",
    "            if (S[k2][j] > maxk*0.25):\n",
    "                n += 1/(k2+2)\n",
    "    return round(n*50/delta, 4)\n",
    "\n",
    "def nbre_cell_sup_ampmoy4(S, nlow, nhigh):\n",
    "    n = 0\n",
    "    delta = 1+nhigh - nlow\n",
    "    maxamp = max_amp(S)\n",
    "    minamp = min_amp(S)\n",
    "    moyamp = (maxamp + minamp)* 0.25\n",
    "    for k in range(delta):\n",
    "        k2 = nlow+k\n",
    "        for j in range (len(S[k2])):\n",
    "            if (S[k2][j] > moyamp):\n",
    "                n += 1/(k2+2)\n",
    "    return round(n*50/delta, 4)\n",
    "\n",
    "print (\"ampmoy\", nbre_cell_sup_ampmoy(S1))\n",
    "print (\"ampmoy2\", nbre_cell_sup_ampmoy2(S1))\n",
    "print (\"ampmoy3\", nbre_cell_sup_ampmoy3(S1, 0, 0))\n",
    "print (\"ampmoy4\", nbre_cell_sup_ampmoy4(S1, 0, 4))"
   ]
  },
  {
   "cell_type": "code",
   "execution_count": 310,
   "metadata": {},
   "outputs": [
    {
     "data": {
      "image/png": "[encoded data removed]",
      "text/plain": [
       "<matplotlib.figure.Figure at 0x1a189f8518>"
      ]
     },
     "metadata": {},
     "output_type": "display_data"
    }
   ],
   "source": [
    "def arrayscale (Array, maxout):\n",
    "    maxin = (np.max(Array))\n",
    "    res =  np.multiply(Array, maxout/maxin)\n",
    "    return np.round_(res, 3)\n",
    "\n",
    "\n",
    "res=[]\n",
    "for fichier in filelist:\n",
    "    S = read(fichier)\n",
    "    res.append(nbre_cell_sup_ampmoy4(S, 20, 26))\n",
    "X = np.arange(len(res))\n",
    "plt.plot(X, res, color='coral', linewidth=1)\n",
    "plt.grid()\n",
    "#axeX = np.arange(11)\n",
    "#plt.xticks(arrayscale(axeX,len(res)-1))\n",
    "    \n",
    "plt.xlim(0, len(res))\n",
    "plt.ylim(0, max(res))\n",
    "plt.title(\"densité\", fontsize=10)\n",
    "plt.show()\n"
   ]
  },
  {
   "cell_type": "code",
   "execution_count": 313,
   "metadata": {},
   "outputs": [
    {
     "data": {
      "image/png": "[encoded data removed]",
      "text/plain": [
       "<matplotlib.figure.Figure at 0x1a18383470>"
      ]
     },
     "metadata": {},
     "output_type": "display_data"
    }
   ],
   "source": [
    "res=[]\n",
    "\n",
    "fig, ax = plt.subplots()\n",
    "\n",
    "for fichier in filelist:\n",
    "    S = read(fichier)\n",
    "    res.append(nbre_cell_sup_ampmoy3(S, 20, 26))\n",
    "X = np.arange(len(res))\n",
    "#plt.plot(X, res, color='coral', linewidth=1)\n",
    "\n",
    "ax.bar(X, res, align='center',\n",
    "        color='blue')\n",
    "\n",
    "plt.grid()\n",
    "#axeX = np.arange(22)\n",
    "#plt.xticks(arrayscale(axeX,21))\n",
    "    \n",
    "plt.xlim(0, len(res))\n",
    "plt.ylim(0, max(res)+10)\n",
    "plt.title(\"densité\", fontsize=10)\n",
    "plt.show()\n"
   ]
  },
  {
   "cell_type": "code",
   "execution_count": 102,
   "metadata": {},
   "outputs": [
    {
     "name": "stdout",
     "output_type": "stream",
     "text": [
      "sinus13000_sr44100_deb00_00_00_t02_00.txt\n",
      "0.65131254634651\n"
     ]
    }
   ],
   "source": [
    "centroids = []\n",
    "times = []\n",
    "flatnesses = []\n",
    "\n",
    "print(filelist[3])\n",
    "print(sp_flatness(read(filelist[3])))\n"
   ]
  },
  {
   "cell_type": "code",
   "execution_count": 41,
   "metadata": {},
   "outputs": [],
   "source": [
    "class Analyse:\n",
    "    def __init__(self, filename, time, centroid, sd, c_min_sdlow, c_plus_sdHi, midi_centroid, \n",
    "                 mc_min_eclow, mc_plus_ecHi, midi_sp_slope, sp_slope, skewness, kurtosis, \n",
    "                 sp_rolloff, sp_flatness, sp_flatness_moy, sp_flatness_minamp, \n",
    "                 sp_flatness_minfreq, sp_flatness_maxamp, sp_flatness_maxfreq, \n",
    "                 sp_crest, rms, maxfreq25, max_amp, max_amoy, min_amp, max_freq, \n",
    "                 max_moy_freq, mode_freq1, mode_freq2, mode_freq3, nbre_cell_sup_ampmoy):\n",
    "        self.filename = filename\n",
    "        self.time=time\n",
    "        self.centroid=centroid\n",
    "        self.sd=sd\n",
    "        self.c_min_sdlow=c_min_sdlow\n",
    "        self.c_plus_sdHi=c_plus_sdHi\n",
    "        self.midi_centroid=midi_centroid\n",
    "        self.mc_min_eclow=mc_min_eclow\n",
    "        self.mc_plus_ecHi=mc_plus_ecHi\n",
    "        self.midi_sp_slope=midi_sp_slope\n",
    "        self.sp_slope=sp_slope\n",
    "        self.skewness=skewness\n",
    "        self.kurtosis=kurtosis\n",
    "        self.sp_rolloff=sp_rolloff\n",
    "        self.sp_flatness=sp_flatness\n",
    "        self.sp_flatness_moy=sp_flatness_moy\n",
    "        self.sp_flatness_minamp=sp_flatness_minamp\n",
    "        self.sp_flatness_minfreq=sp_flatness_minfreq\n",
    "        self.sp_flatness_maxamp=sp_flatness_maxamp\n",
    "        self.sp_flatness_maxfreq=sp_flatness_maxfreq\n",
    "        self.sp_crest=sp_crest\n",
    "        self.rms=rms\n",
    "        self.maxfreq25=maxfreq25\n",
    "        self.max_amp=max_amp\n",
    "        self.max_amoy=max_amoy\n",
    "        self.min_amp=min_amp\n",
    "        self.max_freq=max_freq\n",
    "        self.max_moy_freq=max_moy_freq\n",
    "        self.mode_freq1=mode_freq1\n",
    "        self.mode_freq2=mode_freq2\n",
    "        self.mode_freq3=mode_freq3\n",
    "        self.nbre_cell_sup_ampmoy=nbre_cell_sup_ampmoy"
   ]
  },
  {
   "cell_type": "code",
   "execution_count": 43,
   "metadata": {},
   "outputs": [],
   "source": [
    "with open('../Xparams_popplinn4e.txt', 'w') as f:\n",
    "    for fichier in filelist:\n",
    "        #print (fichier, file=f)\n",
    "        #print (centroid(fichier))\n",
    "        print(fichier + \"\\t\" \n",
    "              +str(timetxt(fichier))+\"\\t\"\n",
    "              +str(centroid(read(fichier)))+\"\\t\"\n",
    "              +str(sd(read(fichier)))+\"\\t\"\n",
    "              +str(c_min_sdlow(read(fichier)))+\"\\t\"\n",
    "              +str(c_plus_sdHi(read(fichier)))+\"\\t\"\n",
    "              +str(midi_centroid(read(fichier)))+\"\\t\"\n",
    "              +str(mc_min_eclow(read(fichier)))+\"\\t\"\n",
    "              +str(mc_plus_ecHi(read(fichier)))+\"\\t\"\n",
    "              +str(midi_sp_slope(read(fichier)))+\"\\t\"\n",
    "              +str(sp_slope(read(fichier)))+\"\\t\"\n",
    "              +str(skewness(read(fichier)))+\"\\t\"\n",
    "              +str(kurtosis(read(fichier)))+\"\\t\"\n",
    "              +str(sp_rolloff(read(fichier)))+\"\\t\"\n",
    "              +str(sp_flatness(read(fichier)))+\"\\t\"\n",
    "              +str(sp_flatness_moy(read(fichier)))+\"\\t\"\n",
    "              +str(sp_flatness_minamp(read(fichier)))+\"\\t\"\n",
    "              +str(sp_flatness_minfreq(read(fichier)))+\"\\t\"\n",
    "              +str(sp_flatness_maxamp(read(fichier)))+\"\\t\"\n",
    "              +str(sp_flatness_maxfreq(read(fichier)))+\"\\t\"\n",
    "              +str(sp_crest(read(fichier)))+\"\\t\"\n",
    "              +str(rms(read(fichier)))+\"\\t\"\n",
    "              +str(maxfreq25(read(fichier)))+\"\\t\"\n",
    "              +str(max_amp(read(fichier)))+\"\\t\"\n",
    "              +str(max_amoy(read(fichier)))+\"\\t\"\n",
    "              +str(min_amp(read(fichier)))+\"\\t\"\n",
    "              +str(max_freq(read(fichier)))+\"\\t\"\n",
    "              +str(max_moy_freq(read(fichier)))+\"\\t\"\n",
    "              +str(mode_freq1(read(fichier)))+\"\\t\"\n",
    "              +str(mode_freq2(read(fichier)))+\"\\t\"\n",
    "              +str(mode_freq3(read(fichier)))+\"\\t\"\n",
    "              +str(nbre_cell_sup_ampmoy(read(fichier))), file=f)"
   ]
  },
  {
   "cell_type": "code",
   "execution_count": 33,
   "metadata": {},
   "outputs": [
    {
     "name": "stdout",
     "output_type": "stream",
     "text": [
      "AlanStivell_PopPlinn_1971m.wav_sr44100_deb00_00_00_t02_50_pas02_50.txt\n",
      "moyenne centroid de l'œuvre complete : 249.86856804692295 Hz\n"
     ]
    }
   ],
   "source": [
    "centroids = []\n",
    "times = []\n",
    "flatnesses = []\n",
    "\n",
    "def moyenne (list):\n",
    "    return sum(list)/len(list)\n",
    "\n",
    "#for metal_file in metal_files\n",
    "fileR = filelist[0]\n",
    "print (fileR)\n",
    "for path, dirs, files in os.walk(folder_path):\n",
    "    for filename in files:\n",
    "        if fileR in filename :\n",
    "            if 'txt' in filename :\n",
    "                #print(filename)\n",
    "                centroids.append(centroid(read(filename)))\n",
    "print(\"moyenne centroid de l'œuvre complete : \" + str(moyenne(centroids)) + \" Hz\")\n"
   ]
  }
 ],
 "metadata": {
  "kernelspec": {
   "display_name": "Python 3",
   "language": "python",
   "name": "python3"
  },
  "language_info": {
   "codemirror_mode": {
    "name": "ipython",
    "version": 3
   },
   "file_extension": ".py",
   "mimetype": "text/x-python",
   "name": "python",
   "nbconvert_exporter": "python",
   "pygments_lexer": "ipython3",
   "version": "3.6.4"
  }
 },
 "nbformat": 4,
 "nbformat_minor": 2
}
