{
 "cells": [
  {
   "cell_type": "code",
   "execution_count": 153,
   "metadata": {},
   "outputs": [],
   "source": [
    "import os\n",
    "import math\n",
    "import glob\n",
    "import re\n",
    "import numpy as np\n",
    "import pandas as pd\n",
    "import matplotlib.pyplot as plt\n",
    "plt.rcParams[\"svg.fonttype\"]=\"none\""
   ]
  },
  {
   "cell_type": "markdown",
   "metadata": {},
   "source": [
    "## Dossier où sont les fichiers à étudier"
   ]
  },
  {
   "cell_type": "code",
   "execution_count": 154,
   "metadata": {},
   "outputs": [
    {
     "name": "stdout",
     "output_type": "stream",
     "text": [
      "15\n"
     ]
    }
   ],
   "source": [
    "#folder_path=\"/Users/laurentpottier/Documents/LP/Recherches/Projet_Fondation/Langages&Maths/Anaconda/LPanalyse/00_tests\"\n",
    "folder_path=\"/Users/laurentpottier/Documents/LP/Recherches/Projet_Fondation/Langages&Maths/Anaconda/LPanalyse/PopPlinn/class/PopPlinnTxtSel\"\n",
    "filelist = []\n",
    "for path, dirs, files in os.walk(folder_path):\n",
    "    for filename in files:\n",
    "        if 'txt' in filename :\n",
    "                filelist.append(filename)\n",
    "filelist.sort()\n",
    "\n",
    "print(len(filelist))\n",
    "#print (filelist)\n",
    "\n",
    "#get classes in string\n",
    "class_path=os.chdir(\"/Users/laurentpottier/Documents/LP/Recherches/Projet_Fondation/Langages&Maths/Anaconda/LPanalyse/PopPlinn/class/PopPlinnTxtSel/\")\n",
    "#class_path=os.chdir(\"/Users/laurentpottier/Documents/LP/Recherches/Projet_Fondation/Langages&Maths/Anaconda/LPanalyse/00_tests/\")\n"
   ]
  },
  {
   "cell_type": "markdown",
   "metadata": {},
   "source": [
    "## Utilitaires"
   ]
  },
  {
   "cell_type": "code",
   "execution_count": 155,
   "metadata": {},
   "outputs": [
    {
     "name": "stdout",
     "output_type": "stream",
     "text": [
      "note de freq 261Hz : 59.95855539654269\n",
      "frequence de note 60 : 261.6255653005986 Hz\n",
      "amp = 0.0 => amplitude en dB : -120 dB\n",
      "amp = 0.0001 => amplitude en dB : -80.0 dB\n",
      "amp = 0.5 => amplitude en dB : -6.021 dB\n",
      "amp = 1 => amplitude en dB : 0.0 dB\n",
      "amp60 = 0 => amplitude60 en dB : 0 dB\n",
      "amp60 = 1 => amplitude60 en dB : 60.0 dB\n"
     ]
    }
   ],
   "source": [
    "def f_to_midi (f) :\n",
    "    return 69+12*math.log(f/440,2)\n",
    "\n",
    "print (\"note de freq 261Hz :\" , f_to_midi (261))\n",
    "\n",
    "def midi_to_f (n) :\n",
    "    return 440*2**((n-69)/12)\n",
    "\n",
    "print (\"frequence de note 60 :\" , midi_to_f (60), \"Hz\")\n",
    "\n",
    "def dx2x(intervalles):\n",
    "    res=[0]\n",
    "    for i in range (len (intervalles)):\n",
    "        res.append(res[i]+intervalles[i-1])\n",
    "    return res\n",
    "               \n",
    "def a2db (a):\n",
    "    if(a<=0.000001):res = -120\n",
    "    else:\n",
    "        res = 20*math.log(a,10)\n",
    "    return res\n",
    "\n",
    "# version limitée à un ambitus 0 (0.001) - 60dB (1)               \n",
    "def a2db60 (a):\n",
    "    if(a<=0.001):res = 0\n",
    "    else:res = 60+20*math.log(a,10)\n",
    "    return res\n",
    "\n",
    "print (\"amp = 0.0 => amplitude en dB :\" , round(a2db(0.000001), 3), \"dB\")\n",
    "print (\"amp = 0.0001 => amplitude en dB :\" , round(a2db(0.0001), 3), \"dB\")\n",
    "print (\"amp = 0.5 => amplitude en dB :\" , round(a2db(0.5), 3), \"dB\")\n",
    "print (\"amp = 1 => amplitude en dB :\" , a2db(1), \"dB\")\n",
    "print (\"amp60 = 0 => amplitude60 en dB :\" , a2db60(0), \"dB\")\n",
    "print (\"amp60 = 1 => amplitude60 en dB :\" , a2db60(1), \"dB\")"
   ]
  },
  {
   "cell_type": "markdown",
   "metadata": {},
   "source": [
    "## bande de fréquences"
   ]
  },
  {
   "cell_type": "code",
   "execution_count": 169,
   "metadata": {},
   "outputs": [
    {
     "name": "stdout",
     "output_type": "stream",
     "text": [
      "len(f_ls) : 28 bornes\n",
      "w : [10.8, 10.8, 10.7, 10.8, 21.5, 21.6, 32.3, 32.3, 43.0, 53.9, 75.3, 96.9, 107.7, 150.7, 172.3, 236.9, 279.9, 366.1, 462.9, 570.6, 732.2, 915.1, 1152.1, 1453.5, 1830.3, 2304.0, 2896.2]\n",
      "f_c : [   26.4    37.3    48.2    59.     74.6    96.3   122.8   155.3   192.6\n",
      "   240.7   304.5   390.    492.3   619.9   781.2   983.4  1241.1  1561.3\n",
      "  1972.9  2486.9  3133.3  3951.9  4978.6  6272.7  7903.7  9957.3 12540.5]\n",
      "f_c_moy : 478.5 Hz\n",
      "f_c_gmoyR : 612.6 Hz\n"
     ]
    }
   ],
   "source": [
    "f_ls = [21.5,32.3,43.1,53.8,64.6,86.1,107.7,140.0,172.3,215.3,269.2,344.5,441.4,549.1,699.8,872.1,1109.0,1388.9,1755.0,2217.9,2788.5,3520.7,4435.8,5587.9,7041.4,8871.7,11175.7,14071.9]\n",
    "\n",
    "L = [] # liste des tailles des lignes\n",
    "for k in range(27):\n",
    "    L.append(4+2*k)\n",
    "\n",
    "f_c = [] # frequences centrales des bandes\n",
    "for i in range(len(f_ls)-1):\n",
    "    f_c.append(math.sqrt(f_ls[i+1]*f_ls[i]))\n",
    "    \n",
    "f_c_midi = []\n",
    "for i in range(len(f_c)):\n",
    "    f_c_midi.append(f_to_midi(f_c[i]))\n",
    "\n",
    "f_c_moy = 0 \n",
    "for i in range(len(f_c)):\n",
    "    f_c_moy += f_c[i]\n",
    "    f_c_moy /= 27\n",
    "    \n",
    "f_c_gmoy = 0\n",
    "for i in range(len(f_c)):\n",
    "    f_c_gmoy += math.log(f_c[i], 2)\n",
    "    f_c_gmoyR =  2**(f_c_gmoy/27)\n",
    "\n",
    "#formule equivalente\n",
    "#f_c_gmoy2 = 0\n",
    "#for i in range(len(f_c)):\n",
    "#    f_c_gmoy2 += f_to_midi(f_c[i])\n",
    "#    f_c_gmoyR2 =  midi_to_f(f_c_gmoy2/27)\n",
    "\n",
    "    \n",
    "print(\"len(f_ls) :\", len(f_ls), \"bornes\")\n",
    "\n",
    "W=[]\n",
    "for i in range(len(f_ls)-1):\n",
    "    W.append(round(f_ls[i+1]-f_ls[i], 2))\n",
    "print(\"w :\" , W)    \n",
    "    \n",
    "print (\"f_c :\", np.round(f_c, 1))\n",
    "print (\"f_c_moy :\", round(f_c_moy,1), \"Hz\") # (en Hz) moyenne des frequences des centres des bandes \n",
    "print (\"f_c_gmoyR :\", round(f_c_gmoyR,1), \"Hz\") # (en Hz) moyenne des centres calculée par les notes MIDI\n",
    "#print (\"f_c_gmoyR :\", f_c_gmoyR2) # (en Hz) moyenne des centres calculée par les notes MIDI\n",
    "\n",
    "f_cA = np.asarray(f_c)\n",
    "f_cA = f_cA[:, np.newaxis]\n",
    "#print (round(3.149 , 2))\n"
   ]
  },
  {
   "cell_type": "code",
   "execution_count": 170,
   "metadata": {},
   "outputs": [],
   "source": [
    "# read filetxt and generate array S\n",
    "def read(filetext):\n",
    "    with open(filetext) as f:\n",
    "        mylist = f.read().splitlines()\n",
    "        for x in range(8):\n",
    "            mylist.pop(0)\n",
    "        S=[]\n",
    "        for element in reversed(mylist):\n",
    "            element2=[float(i) for i in element.split()]\n",
    "            S.append(element2)\n",
    "        return S"
   ]
  },
  {
   "cell_type": "code",
   "execution_count": 171,
   "metadata": {},
   "outputs": [
    {
     "name": "stdout",
     "output_type": "stream",
     "text": [
      "PopPlinn_sr44100_deb00_04_00_t02_00_pas02_00.txt\n",
      "PopPlinn_sr44100_deb01_20_00_t02_00_pas02_00.txt\n"
     ]
    }
   ],
   "source": [
    "file1 = filelist[1]\n",
    "S1 = read(file1)\n",
    "file2 = filelist[6]\n",
    "S2 = read(file2)\n",
    "\n",
    "print (file1)\n",
    "print (file2)"
   ]
  },
  {
   "cell_type": "markdown",
   "metadata": {},
   "source": [
    "## calcule la date d'une analyse d'apres le nom du fichier"
   ]
  },
  {
   "cell_type": "code",
   "execution_count": 159,
   "metadata": {},
   "outputs": [
    {
     "name": "stdout",
     "output_type": "stream",
     "text": [
      "80.0\n"
     ]
    }
   ],
   "source": [
    "\n",
    "def timetxt (filetext):\n",
    "    str_L = filetext.rsplit(sep='_')\n",
    "    test = 0\n",
    "    result = 0\n",
    "    for str in str_L:\n",
    "        if test == 3:\n",
    "            cent = int(str)\n",
    "            result+=(cent/100)\n",
    "            test = 0\n",
    "        if test == 2:\n",
    "            sec = int(str)\n",
    "            test = 3\n",
    "            result+=sec\n",
    "        if re.search('deb', str):\n",
    "            test = 1\n",
    "            min = int(str[4-5])\n",
    "            result+=(min*60)\n",
    "            test = 2\n",
    "    return result\n",
    "\n",
    "print(timetxt(file2))"
   ]
  },
  {
   "cell_type": "markdown",
   "metadata": {},
   "source": [
    "## Calcul dans chaque bande des amplitudes min max, puis donne la moyenne pour l'ensemble des bandes"
   ]
  },
  {
   "cell_type": "code",
   "execution_count": 174,
   "metadata": {},
   "outputs": [
    {
     "name": "stdout",
     "output_type": "stream",
     "text": [
      "moyenne des écarts d'amplitudes  PopPlinn_sr44100_deb00_04_00_t02_00_pas02_00.txt  : 0.028\n",
      "moyenne des écarts d'amplitudes  PopPlinn_sr44100_deb01_20_00_t02_00_pas02_00.txt  : 0.046\n"
     ]
    }
   ],
   "source": [
    "def ampmax(S, k):\n",
    "    ampmx = 0\n",
    "    for j in range(4+2*k):\n",
    "        ampmx = max(ampmx, S[k][j])\n",
    "    return ampmx\n",
    "\n",
    "def ampmin(S, k):\n",
    "    ampmn = 1\n",
    "    for j in range(4+2*k):\n",
    "        ampmn = min(ampmn, S[k][j])\n",
    "    return ampmn\n",
    "\n",
    "def deltaamp(S, k):\n",
    "    return ampmax(S, k) - ampmin(S, k)\n",
    "\n",
    "def moy_ecart_amps(S):\n",
    "    ecarts = []\n",
    "    for k in range(27):\n",
    "        ecarts.append(deltaamp(S, k))\n",
    "    ecartsA = np.asarray(ecarts)\n",
    "    return ecartsA.mean()\n",
    "        \n",
    "\n",
    "#for k in range(27):\n",
    "#    print(\"k =\",1+k ,\"amp min=\", round(ampmin(S1, k),3),\"amp max=\", round(ampmax(S1, k),3), \"ecart\" ,round(deltaamp(S1, k), 2))\n",
    "#for k in range(27):\n",
    "#    print(\"k =\",1+k ,\"amp min=\", round(ampmin(S2, k),3),\"amp max=\", round(ampmax(S2, k),3), \"ecart\" ,round(deltaamp(S2, k), 3))\n",
    "    \n",
    "print(\"moyenne des écarts d'amplitudes \", file1, \" :\",round(moy_ecart_amps (S1),3))\n",
    "print(\"moyenne des écarts d'amplitudes \", file2, \" :\",round(moy_ecart_amps (S2),3))"
   ]
  },
  {
   "cell_type": "markdown",
   "metadata": {},
   "source": [
    "## Calcul des autosimilarités par bande"
   ]
  },
  {
   "cell_type": "code",
   "execution_count": 161,
   "metadata": {},
   "outputs": [
    {
     "data": {
      "text/plain": [
       "[0.00023923628487334435, 0.0003146108707594192, 0.00023923628487334435]"
      ]
     },
     "execution_count": 161,
     "metadata": {},
     "output_type": "execute_result"
    }
   ],
   "source": [
    "def array_eucl_dist(Arr1, Arr2):\n",
    "    res = np.subtract(Arr1, Arr2)\n",
    "    res = np.multiply(res, res)\n",
    "    res = np.sum(res)\n",
    "    return res**0.5\n",
    "\n",
    "#pour une bande donnée (k entre 0 et 26)\n",
    "def selfsimil (S, k):\n",
    "    dist = 0\n",
    "    distmin = 1\n",
    "    distmax = 0\n",
    "    for j in range(3+2*k):\n",
    "        d = (array_eucl_dist(S[k], np.roll(S[k],j+1))/(1+k))\n",
    "        dist += d\n",
    "        distmin = min(distmin, d)\n",
    "        distmax = max(distmax, d)\n",
    "        #print(d)\n",
    "    return [dist, distmin, distmax]\n",
    "\n",
    "#pour une bande donnée (k entre 0 et 26)\n",
    "def selfsimil2 (S, k):\n",
    "    res = []\n",
    "    dist = 0\n",
    "    distmin = 1\n",
    "    distmax = 0\n",
    "    for j in range(3+2*k):\n",
    "        d = (array_eucl_dist(S[k], np.roll(S[k],j+1))/(1+k))\n",
    "        res.append(d)\n",
    "    return res\n",
    "\n",
    "\n",
    "np.round_(selfsimil (S2, 4), 4)\n",
    "selfsimil2 (S2, 0)\n",
    "\n",
    "\n",
    "#voir les zero cross de la dérivée de d = nbre de cycles\n",
    "# ecarts, pics"
   ]
  },
  {
   "cell_type": "code",
   "execution_count": 162,
   "metadata": {},
   "outputs": [],
   "source": [
    "def all_selfsimil(S):\n",
    "    res=[]\n",
    "    for k in range (27):\n",
    "        res.append(selfsimil2 (S, k))\n",
    "    return res\n",
    "\n",
    "#all_selfsimil(S2)"
   ]
  },
  {
   "cell_type": "markdown",
   "metadata": {},
   "source": [
    "# Représentations graphiques\n",
    "## Histogrammes"
   ]
  },
  {
   "cell_type": "code",
   "execution_count": 163,
   "metadata": {},
   "outputs": [],
   "source": [
    "#------------liste d'intervales-------------------------#\n",
    "# Renvoie une liste d'intervales pour une taille donnée\n",
    "def liste_intervales(nb, taille):\n",
    "    taille_intervale = int(taille / nb)\n",
    "    intervals = [0] * nb\n",
    "    for i in range(0, nb):\n",
    "        intervals[i] = taille_intervale\n",
    "    ecart = taille - nb * taille_intervale\n",
    "    milieu = int(nb / 2)\n",
    "    i = 0\n",
    "    while (ecart > 0):\n",
    "        intervals[milieu + i] = intervals[milieu + i] + 1\n",
    "        if(i <= 0):\n",
    "            i = -i + 1\n",
    "        else:\n",
    "            i = -i\n",
    "        ecart -= 1\n",
    "    return intervals\n",
    "\n",
    "def doubleXvals(list):\n",
    "    res=[0]\n",
    "    j = len(list)\n",
    "    for i in range (j-2):\n",
    "        res.append(list[i+1])\n",
    "        res.append(list[i+1])\n",
    "    res.append(list[j-1])\n",
    "    return res\n",
    "\n",
    "def doubleYvals(list):\n",
    "    res=[]\n",
    "    j = len(list)\n",
    "    for i in range (j):\n",
    "        res.append(list[i])\n",
    "        res.append(list[i])\n",
    "    return res\n",
    "\n",
    "def doubleYvalsLog(list):\n",
    "    res=[]\n",
    "    j = len(list)\n",
    "    for i in range (j):\n",
    "        res.append(a2db(list[i]))\n",
    "        res.append(a2db(list[i]))\n",
    "    return res\n",
    "\n",
    "def arrayscale (Array, maxout):\n",
    "    maxin = (np.max(Array))\n",
    "    res =  np.multiply(Array, maxout/maxin)\n",
    "    return np.round_(res, 3)\n",
    "\n",
    "maxS1 = np.max(np.max(S1))\n",
    "print (\"maxS\", maxS1)"
   ]
  },
  {
   "cell_type": "code",
   "execution_count": 165,
   "metadata": {},
   "outputs": [
    {
     "data": {
      "text/plain": [
       "<matplotlib.figure.Figure at 0x1a2333e710>"
      ]
     },
     "metadata": {},
     "output_type": "display_data"
    }
   ],
   "source": [
    "# graphe du fichier texte\n",
    "def plotX2(filetxt, coeff):\n",
    "    S = read(filetxt)\n",
    "    maxS = np.max(np.max(S))\n",
    "    for k in range (27):\n",
    "        line = S[k]\n",
    "        nb_interval = len(line)\n",
    "        intervales = liste_intervales(len(line), len(S) * coeff)\n",
    "        x = doubleXvals(dx2x(intervales))\n",
    "        y = doubleYvals(np.add(line, k*maxS))\n",
    "        #print (\"x\", x)\n",
    "        #print (\"y\", y)\n",
    "        plt.plot(x, y, color=\"blue\", linewidth=0.5)\n",
    "        plt.fill_between(x, k*maxS, y, color='blue', alpha=.25)\n",
    "        \n",
    "    axeX = np.arange(6)\n",
    "    plt.xticks(arrayscale(axeX,270), arrayscale(axeX,2.0))\n",
    "    plt.yticks([])\n",
    "\n",
    "    lfile = filetxt.split(\"_\")\n",
    "    filename = lfile[0]+\"_\"+lfile[1]+\"_\"+lfile[2]+\"_\"+lfile[3]+\"_\"+lfile[4]+\"_\"+lfile[5]+\"_\"+lfile[6]\n",
    "    \n",
    "    #plt.title(label=\"courbe_\"+filename, loc='center')\n",
    "    plt.show()\n",
    "    #plt.savefig(\"courbe_\"+filename + \".pdf\")\n",
    "    # Efface tous les tracés présents sur le graphe\n",
    "    plt.gcf().clear()\n",
    "\n",
    "# Graphe des distances entre une bande et la même bande rotation 'i' pour toutes les bandes\n",
    "def plotX2sim(filetxt, coeff):\n",
    "    S = all_selfsimil(read(filetxt))\n",
    "    maxS = np.max(np.max(S))\n",
    "    for k in range (27):\n",
    "        line = S[k]\n",
    "        nb_interval = len(line)\n",
    "        intervales = liste_intervales(len(line), len(S) * coeff)\n",
    "        x = doubleXvals(dx2x(intervales))\n",
    "        y = doubleYvals(np.add(line, k*maxS))\n",
    "        #print (\"x\", x)\n",
    "        #print (\"y\", y)\n",
    "        plt.plot(x, y, color=\"blue\", linewidth=0.5)\n",
    "        plt.fill_between(x, k*maxS, y, color='blue', alpha=.25)\n",
    "        \n",
    "    axeX = np.arange(6)\n",
    "    plt.xticks(arrayscale(axeX,270), arrayscale(axeX,2.0))\n",
    "    plt.yticks([])\n",
    "\n",
    "    lfile = filetxt.split(\"_\")\n",
    "    filename = lfile[0]+\"sim_\"+lfile[1]+\"_\"+lfile[2]+\"_\"+lfile[3]+\"_\"+lfile[4]+\"_\"+lfile[5]+\"_\"+lfile[6]\n",
    "    \n",
    "    #plt.title(label=\"courbe_\"+filename, loc='center')\n",
    "    #plt.title('Easy as 1, 2, 3')\n",
    "    plt.title(\"courbe_\"+filename, loc='center')\n",
    "    #plt.show()\n",
    "    plt.savefig(\"courbe_\"+filename + \".pdf\")\n",
    "    # Efface tous les tracés présents sur le graphe\n",
    "    plt.gcf().clear()\n",
    "\n",
    "    \n",
    "plotX2sim(file2, 10)\n",
    "#print (all_selfsimil(S1))"
   ]
  },
  {
   "cell_type": "code",
   "execution_count": 129,
   "metadata": {},
   "outputs": [
    {
     "data": {
      "text/plain": [
       "<matplotlib.figure.Figure at 0x1a175d2550>"
      ]
     },
     "metadata": {},
     "output_type": "display_data"
    }
   ],
   "source": [
    "for n in range (len( filelist)):\n",
    "    plotX2sim(filelist[n], 10)\n"
   ]
  }
 ],
 "metadata": {
  "kernelspec": {
   "display_name": "Python 3",
   "language": "python",
   "name": "python3"
  },
  "language_info": {
   "codemirror_mode": {
    "name": "ipython",
    "version": 3
   },
   "file_extension": ".py",
   "mimetype": "text/x-python",
   "name": "python",
   "nbconvert_exporter": "python",
   "pygments_lexer": "ipython3",
   "version": "3.6.4"
  }
 },
 "nbformat": 4,
 "nbformat_minor": 2
}
